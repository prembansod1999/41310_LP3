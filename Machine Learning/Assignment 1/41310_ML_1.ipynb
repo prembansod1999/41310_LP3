{
  "nbformat": 4,
  "nbformat_minor": 0,
  "metadata": {
    "kernelspec": {
      "display_name": "Python 3",
      "language": "python",
      "name": "python3"
    },
    "language_info": {
      "codemirror_mode": {
        "name": "ipython",
        "version": 3
      },
      "file_extension": ".py",
      "mimetype": "text/x-python",
      "name": "python",
      "nbconvert_exporter": "python",
      "pygments_lexer": "ipython3",
      "version": "3.7.6"
    },
    "colab": {
      "name": "41310_ML_1.ipynb",
      "provenance": [],
      "collapsed_sections": []
    }
  },
  "cells": [
    {
      "cell_type": "markdown",
      "metadata": {
        "id": "KVXJBS4jw5T5"
      },
      "source": [
        "# To find the best fit line for given data using Linear Regression"
      ]
    },
    {
      "cell_type": "markdown",
      "metadata": {
        "id": "3DW0ULhDAQFf"
      },
      "source": [
        "##Assignment on Linear Regression:\n",
        "The following table shows the results of a recently conducted study on the correlation of the number of hours spent driving with the risk of developing acute backache. Find the equation of the best fit line for this data.\n",
        "\n",
        "Number of hours spent driving (x) | Risk Score on a scale of 0-100 (y)\n",
        "--- | ---\n",
        "10 | 95\n",
        "9 | 80\n",
        "2 | 10\n",
        "15 | 50\n",
        "10 | 45\n",
        "16 | 98\n",
        "11 | 38\n",
        "16 | 93"
      ]
    },
    {
      "cell_type": "code",
      "metadata": {
        "id": "erJ2-m1-w5T9"
      },
      "source": [
        "# Importing libraries\n",
        "import pandas as pd\n",
        "import numpy as np\n",
        "import matplotlib.pyplot as plt\n",
        "import seaborn as sns\n",
        "from sklearn.linear_model import LinearRegression"
      ],
      "execution_count": null,
      "outputs": []
    },
    {
      "cell_type": "code",
      "metadata": {
        "id": "0E20mvzCw5T-"
      },
      "source": [
        "# Function to plot the given data\n",
        "def plotData(X, y, x_label='driving_hours', y_label='risk_score'):\n",
        "    plt.figure(figsize=(6,6))\n",
        "    plt.xlabel(x_label)\n",
        "    plt.ylabel(y_label)\n",
        "    plt.scatter(X,y)\n",
        "    return plt"
      ],
      "execution_count": null,
      "outputs": []
    },
    {
      "cell_type": "code",
      "metadata": {
        "id": "sPy2Tbbcw5T-"
      },
      "source": [
        "# Function to plot the regression line along with the given data\n",
        "def plotRegressionLine(X, y, y_pred, x_label='driving_hours', y_label='risk_score'):\n",
        "    plt = plotData(X, y, x_label, y_label)\n",
        "    plt.plot(X, y_pred, color='red', linewidth=3)\n",
        "    plt.show()"
      ],
      "execution_count": null,
      "outputs": []
    },
    {
      "cell_type": "markdown",
      "metadata": {
        "id": "Zhq519fn9hFX"
      },
      "source": [
        "###Evaluating the model - Coefficient of Determination (R2 Score)\n",
        "\n",
        "![MLR_r2.png](data:image/png;base64,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)"
      ]
    },
    {
      "cell_type": "code",
      "metadata": {
        "id": "-FBeOQfvw5T_"
      },
      "source": [
        "# Function to calculate R2 score\n",
        "def calcR2Score(X, y, y_pred):\n",
        "    y_mean = y.mean()\n",
        "    SStot = sum((y-y_mean)**2)\n",
        "    SSres = sum((y-y_pred)**2)\n",
        "    r2_score = 1-(SSres/SStot)\n",
        "    return r2_score"
      ],
      "execution_count": null,
      "outputs": []
    },
    {
      "cell_type": "markdown",
      "metadata": {
        "id": "b6kdqfz_vdOJ"
      },
      "source": [
        "Pearson’s Correlation Coefficient is a linear correlation coefficient that returns a value of between -1 and +1. A -1 means there is a strong negative correlation and +1 means that there is a strong positive correlation. A 0 means that there is no correlation (this is also called zero correlation"
      ]
    },
    {
      "cell_type": "code",
      "metadata": {
        "id": "pAXCJiRKw5T_"
      },
      "source": [
        "# Function to calculate Pearson's Correlation Coefficient\n",
        "def correlationCoef(X,y): \n",
        "    X_mean = X.mean()\n",
        "    y_mean = y.mean()\n",
        "    num = sum((X-X_mean)*(y-y_mean))\n",
        "    den = (sum((X-X_mean)**2)*sum((y-y_mean)**2))**0.5\n",
        "    coef = num/den\n",
        "    return coef"
      ],
      "execution_count": null,
      "outputs": []
    },
    {
      "cell_type": "code",
      "metadata": {
        "id": "zvWX8aR6w5T_"
      },
      "source": [
        "data = {\n",
        "    'driving_hours': [10, 9, 2, 15, 10, 16, 11, 16], \n",
        "    'risk_score':[95, 80, 10, 50, 45, 98, 38, 93]\n",
        "} \n",
        "df = pd.DataFrame.from_dict(data) "
      ],
      "execution_count": null,
      "outputs": []
    },
    {
      "cell_type": "code",
      "metadata": {
        "id": "oLeQtwc-w5UA",
        "outputId": "e5a6020c-f53e-48ba-ee16-ccada6ae7c54"
      },
      "source": [
        "df.head()"
      ],
      "execution_count": null,
      "outputs": [
        {
          "output_type": "execute_result",
          "data": {
            "text/html": [
              "<div>\n",
              "<style scoped>\n",
              "    .dataframe tbody tr th:only-of-type {\n",
              "        vertical-align: middle;\n",
              "    }\n",
              "\n",
              "    .dataframe tbody tr th {\n",
              "        vertical-align: top;\n",
              "    }\n",
              "\n",
              "    .dataframe thead th {\n",
              "        text-align: right;\n",
              "    }\n",
              "</style>\n",
              "<table border=\"1\" class=\"dataframe\">\n",
              "  <thead>\n",
              "    <tr style=\"text-align: right;\">\n",
              "      <th></th>\n",
              "      <th>driving_hours</th>\n",
              "      <th>risk_score</th>\n",
              "    </tr>\n",
              "  </thead>\n",
              "  <tbody>\n",
              "    <tr>\n",
              "      <th>0</th>\n",
              "      <td>10</td>\n",
              "      <td>95</td>\n",
              "    </tr>\n",
              "    <tr>\n",
              "      <th>1</th>\n",
              "      <td>9</td>\n",
              "      <td>80</td>\n",
              "    </tr>\n",
              "    <tr>\n",
              "      <th>2</th>\n",
              "      <td>2</td>\n",
              "      <td>10</td>\n",
              "    </tr>\n",
              "    <tr>\n",
              "      <th>3</th>\n",
              "      <td>15</td>\n",
              "      <td>50</td>\n",
              "    </tr>\n",
              "    <tr>\n",
              "      <th>4</th>\n",
              "      <td>10</td>\n",
              "      <td>45</td>\n",
              "    </tr>\n",
              "  </tbody>\n",
              "</table>\n",
              "</div>"
            ],
            "text/plain": [
              "   driving_hours  risk_score\n",
              "0             10          95\n",
              "1              9          80\n",
              "2              2          10\n",
              "3             15          50\n",
              "4             10          45"
            ]
          },
          "metadata": {
            "tags": []
          },
          "execution_count": 34
        }
      ]
    },
    {
      "cell_type": "code",
      "metadata": {
        "id": "h_QU-G3fw5UB"
      },
      "source": [
        "X = np.array(df['driving_hours'])\n",
        "y = np.array(df['risk_score'])"
      ],
      "execution_count": null,
      "outputs": []
    },
    {
      "cell_type": "code",
      "metadata": {
        "id": "QKQmePQkw5UB",
        "outputId": "d0a59e23-8ed2-46b0-e601-383bffbd159a"
      },
      "source": [
        "correlationCoef(X,y)"
      ],
      "execution_count": null,
      "outputs": [
        {
          "output_type": "execute_result",
          "data": {
            "text/plain": [
              "0.6611314653759117"
            ]
          },
          "metadata": {
            "tags": []
          },
          "execution_count": 36
        }
      ]
    },
    {
      "cell_type": "code",
      "metadata": {
        "id": "WDVIgYr5w5UC",
        "outputId": "9644ad84-b581-41cb-cadd-5704c4a33e9a"
      },
      "source": [
        "plotData(X, y)"
      ],
      "execution_count": null,
      "outputs": [
        {
          "output_type": "execute_result",
          "data": {
            "text/plain": [
              "<module 'matplotlib.pyplot' from 'C:\\\\Users\\\\Megh Khaire\\\\Anaconda3\\\\envs\\\\Python\\\\lib\\\\site-packages\\\\matplotlib\\\\pyplot.py'>"
            ]
          },
          "metadata": {
            "tags": []
          },
          "execution_count": 37
        },
        {
          "output_type": "display_data",
          "data": {
            "image/png": "[encoded data removed]",
            "text/plain": [
              "<Figure size 432x432 with 1 Axes>"
            ]
          },
          "metadata": {
            "tags": [],
            "needs_background": "light"
          }
        }
      ]
    },
    {
      "cell_type": "markdown",
      "metadata": {
        "id": "MdTYoPIY7oIt"
      },
      "source": [
        "###Fitting the Regression Line\n",
        "\n",
        "#### $\\widehat{Y}$ = $b_{0}$ + $b_{1}$x\n",
        "\n",
        "![coefficient_formulas.png](data:image/png;base64,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)"
      ]
    },
    {
      "cell_type": "code",
      "metadata": {
        "id": "PIg8FgPVw5UC"
      },
      "source": [
        "# Function to calculate coefficients of the line\n",
        "def calcCoefficient(X,y):\n",
        "    X_mean = X.mean()\n",
        "    y_mean = y.mean()\n",
        "    # Σ [ (xi – x)(yi – y) ] / Σ [ (xi – x)2]\n",
        "    coef = (sum((X-X_mean)*(y-y_mean))/sum((X-X_mean)**2))\n",
        "    intercept = y_mean - coef*X_mean\n",
        "    return coef, intercept"
      ],
      "execution_count": null,
      "outputs": []
    },
    {
      "cell_type": "code",
      "metadata": {
        "id": "XWYwKB7Ew5UD",
        "outputId": "22ceea47-144f-4eeb-8c30-1f52315754fa"
      },
      "source": [
        "W,W0 = calcCoefficient(X,y)\n",
        "y_pred = W*X + W0\n",
        "print(\"Coefficient: \",W)\n",
        "print(\"Intercept: \",W0)\n",
        "print(\"R2 score: \",calcR2Score(X, y, y_pred))\n",
        "print(f\"Equation: Y = {W}*X+{W0}\")\n",
        "plotRegressionLine(X, y, y_pred)"
      ],
      "execution_count": null,
      "outputs": [
        {
          "output_type": "stream",
          "text": [
            "Coefficient:  4.58789860997547\n",
            "Intercept:  12.584627964022893\n",
            "R2 score:  0.43709481451010035\n",
            "Equation: Y = 4.58789860997547*X+12.584627964022893\n"
          ],
          "name": "stdout"
        },
        {
          "output_type": "display_data",
          "data": {
            "image/png": "[encoded data removed]",
            "text/plain": [
              "<Figure size 432x432 with 1 Axes>"
            ]
          },
          "metadata": {
            "tags": [],
            "needs_background": "light"
          }
        }
      ]
    },
    {
      "cell_type": "markdown",
      "metadata": {
        "id": "IdI8Ikkbw5UD"
      },
      "source": [
        "## Sklearn implementation\n",
        "Using Sklearn's LinearRegression api for evaluating the given dataset"
      ]
    },
    {
      "cell_type": "code",
      "metadata": {
        "id": "7g6NfXwDw5UD"
      },
      "source": [
        "X = np.array(X).reshape(-1,1)"
      ],
      "execution_count": null,
      "outputs": []
    },
    {
      "cell_type": "code",
      "metadata": {
        "id": "KMJRmifZw5UE",
        "outputId": "70704bdb-6515-4722-b400-9346bc34baa4"
      },
      "source": [
        "model = LinearRegression()\n",
        "model.fit(X, y)\n",
        "y_pred = model.predict(X)\n",
        "print(\"Coefficient: \",model.coef_[0])\n",
        "print(\"Intercept: \",model.intercept_)\n",
        "print(\"R2 score: \",calcR2Score(X, y, y_pred))\n",
        "print(f\"Equation: Y = {model.coef_[0]}*X+{model.intercept_}\")\n",
        "plotRegressionLine(X, y, y_pred)"
      ],
      "execution_count": null,
      "outputs": [
        {
          "output_type": "stream",
          "text": [
            "Coefficient:  4.587898609975469\n",
            "Intercept:  12.584627964022907\n",
            "R2 score:  0.43709481451010035\n",
            "Equation: Y = 4.587898609975469*X+12.584627964022907\n"
          ],
          "name": "stdout"
        },
        {
          "output_type": "display_data",
          "data": {
            "image/png": "[encoded data removed]",
            "text/plain": [
              "<Figure size 432x432 with 1 Axes>"
            ]
          },
          "metadata": {
            "tags": [],
            "needs_background": "light"
          }
        }
      ]
    },
    {
      "cell_type": "code",
      "metadata": {
        "id": "IEpIH1jHw5UE"
      },
      "source": [
        ""
      ],
      "execution_count": null,
      "outputs": []
    }
  ]
}